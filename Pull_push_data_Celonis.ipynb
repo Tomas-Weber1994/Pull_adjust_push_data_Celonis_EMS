{
 "cells": [
  {
   "cell_type": "markdown",
   "id": "0378e921",
   "metadata": {},
   "source": [
    "### Setting up connection to Celonis EMS"
   ]
  },
  {
   "cell_type": "code",
   "execution_count": 1,
   "id": "4803586c",
   "metadata": {},
   "outputs": [
    {
     "ename": "ModuleNotFoundError",
     "evalue": "No module named 'pycelonis'",
     "output_type": "error",
     "traceback": [
      "\u001b[1;31m---------------------------------------------------------------------------\u001b[0m",
      "\u001b[1;31mModuleNotFoundError\u001b[0m                       Traceback (most recent call last)",
      "\u001b[1;32m~\\AppData\\Local\\Temp\\ipykernel_5896\\1943994285.py\u001b[0m in \u001b[0;36m<module>\u001b[1;34m\u001b[0m\n\u001b[0;32m      1\u001b[0m \u001b[1;32mimport\u001b[0m \u001b[0mpandas\u001b[0m \u001b[1;32mas\u001b[0m \u001b[0mpd\u001b[0m\u001b[1;33m\u001b[0m\u001b[1;33m\u001b[0m\u001b[0m\n\u001b[0;32m      2\u001b[0m \u001b[1;33m\u001b[0m\u001b[0m\n\u001b[1;32m----> 3\u001b[1;33m \u001b[1;32mfrom\u001b[0m \u001b[0mpycelonis\u001b[0m \u001b[1;32mimport\u001b[0m \u001b[0mget_celonis\u001b[0m\u001b[1;33m\u001b[0m\u001b[1;33m\u001b[0m\u001b[0m\n\u001b[0m\u001b[0;32m      4\u001b[0m \u001b[1;32mfrom\u001b[0m \u001b[0mpycelonis\u001b[0m \u001b[1;32mimport\u001b[0m \u001b[0mpql\u001b[0m\u001b[1;33m\u001b[0m\u001b[1;33m\u001b[0m\u001b[0m\n",
      "\u001b[1;31mModuleNotFoundError\u001b[0m: No module named 'pycelonis'"
     ]
    }
   ],
   "source": [
    "import pandas as pd\n",
    "\n",
    "from pycelonis import get_celonis\n",
    "from pycelonis import pql"
   ]
  },
  {
   "cell_type": "code",
   "execution_count": 2,
   "id": "2faad37e",
   "metadata": {},
   "outputs": [
    {
     "ename": "NameError",
     "evalue": "name 'get_celonis' is not defined",
     "output_type": "error",
     "traceback": [
      "\u001b[1;31m---------------------------------------------------------------------------\u001b[0m",
      "\u001b[1;31mNameError\u001b[0m                                 Traceback (most recent call last)",
      "\u001b[1;32m~\\AppData\\Local\\Temp\\ipykernel_5896\\3687292327.py\u001b[0m in \u001b[0;36m<module>\u001b[1;34m\u001b[0m\n\u001b[1;32m----> 1\u001b[1;33m \u001b[0mcelonis\u001b[0m \u001b[1;33m=\u001b[0m \u001b[0mget_celonis\u001b[0m\u001b[1;33m(\u001b[0m\u001b[1;33m)\u001b[0m\u001b[1;33m\u001b[0m\u001b[1;33m\u001b[0m\u001b[0m\n\u001b[0m",
      "\u001b[1;31mNameError\u001b[0m: name 'get_celonis' is not defined"
     ]
    }
   ],
   "source": [
    "celonis = get_celonis()"
   ]
  },
  {
   "cell_type": "code",
   "execution_count": null,
   "id": "f66add98",
   "metadata": {},
   "outputs": [],
   "source": [
    "datamodel = celonis.datamodels.find('XXX') # Insert datamodel ID / name"
   ]
  },
  {
   "cell_type": "code",
   "execution_count": null,
   "id": "b381aabd",
   "metadata": {},
   "outputs": [],
   "source": [
    "# Functions are calclulating the values in 'PTI' and 'Requirement' columns \n",
    "\n",
    "def update_value_PTI(text: str):\n",
    "    for classification in list_of_classifications:\n",
    "        if classification in text:\n",
    "            return classification\n",
    "        \n",
    "\n",
    "def update_value_Requirement(text: str):\n",
    "    for Kurzbezeichnung in list_of_Kurzbezeichnung:\n",
    "        if Kurzbezeichnung in text:\n",
    "            return Kurzbezeichnung\n",
    "\n",
    "# Preparing the string which will be used as PQL filter later\n",
    "def prepare_string_statement(seznam: list):\n",
    "    string = 'Filter '\n",
    "    for classification in seznam:\n",
    "        string = string + f\"TXZ01.TXZ01 LIKE '%{classification}%' OR \" \n",
    "    \n",
    "    if string[-1] == ' ':\n",
    "        string = string[:-4]\n",
    "    string = string + ' ;'\n",
    "    return string    \n"
   ]
  },
  {
   "cell_type": "markdown",
   "id": "4f35f1cb",
   "metadata": {},
   "source": [
    "### Creation of initials dataframes"
   ]
  },
  {
   "cell_type": "code",
   "execution_count": null,
   "id": "6c9fa208",
   "metadata": {},
   "outputs": [],
   "source": [
    "query_2 = pql.PQL()\n",
    "query_2 += pql.PQLColumn(query = \"Classification_abbreviations.Klassifizierung\", name = \"Klassifizierung\")\n",
    "\n",
    "df_2 = datamodel.get_data_frame(query_2)\n",
    "list_of_classifications = df_2[\"Klassifizierung\"].to_list()"
   ]
  },
  {
   "cell_type": "code",
   "execution_count": null,
   "id": "65bc2fe6",
   "metadata": {},
   "outputs": [],
   "source": [
    "query = pql.PQL()\n",
    "query += pql.PQLColumn(query = \"TXZ01.TXZ01\", name = \"TXZ01\")\n",
    "query += pql.PQLColumn(query = \"TXZ01.EBELN\", name = \"EBELN\")\n",
    "query += pql.PQLColumn(query = \"TXZ01.EBELP\", name = \"EBELP\")\n",
    "\n",
    "# query += pql.PQLFilter(\"Filter TXZ01.TXZ01 LIKE '%N23%';\")\n",
    "\n",
    "query += pql.PQLFilter(prepare_string_statement(list_of_classifications))\n",
    "df_filtered = datamodel.get_data_frame(query)\n",
    "\n",
    "df_filtered.drop_duplicates(inplace = True)"
   ]
  },
  {
   "cell_type": "code",
   "execution_count": null,
   "id": "9ec74c14",
   "metadata": {},
   "outputs": [],
   "source": [
    "query_3 = pql.PQL()\n",
    "query_3 += pql.PQLColumn(query = \"Classification_types_of_business.Kurzbezeichnung\", name = \"Kurzbezeichnung\")\n",
    "query_3 += pql.PQLColumn(query = \"Classification_types_of_business.Baseline\", name = \"Baseline\")\n",
    "\n",
    "df_3 = datamodel.get_data_frame(query_3)\n",
    "list_of_Kurzbezeichnung = df_3[\"Kurzbezeichnung\"].to_list()"
   ]
  },
  {
   "cell_type": "markdown",
   "id": "30f82850",
   "metadata": {},
   "source": [
    "### Filtering of dataframes"
   ]
  },
  {
   "cell_type": "code",
   "execution_count": null,
   "id": "8983f663",
   "metadata": {},
   "outputs": [],
   "source": [
    "df_filtered['PTI'] = df_filtered['TXZ01'].apply(update_value_PTI)\n",
    "df_filtered['Requirement'] = df_filtered['TXZ01'].apply(update_value_Requirement)\n",
    "\n",
    "# Setting of NULL values in column 'Requirement' to 'N/A'\n",
    "df_filtered = df_filtered.assign(Requirement=df_filtered['Requirement'].mask(df_filtered['Requirement'].isna(), 'N/A'))"
   ]
  },
  {
   "cell_type": "markdown",
   "id": "f76fc3ec",
   "metadata": {},
   "source": [
    "### Joining the dataframes in order to get 'TYPE_OF_BUSINESS' and create final df"
   ]
  },
  {
   "cell_type": "code",
   "execution_count": null,
   "id": "f1d67dd2",
   "metadata": {},
   "outputs": [],
   "source": [
    "df_3 = df_3.rename(columns={\"Kurzbezeichnung\": \"Requirement\", \"Baseline\": \"TYPE_OF_BUSINESS\"})\n",
    "\n",
    "df_joined = pd.merge(df_filtered, df_3, on='Requirement', how = 'left')"
   ]
  },
  {
   "cell_type": "code",
   "execution_count": null,
   "id": "b3962bea",
   "metadata": {},
   "outputs": [],
   "source": [
    "# Setting of NULL values in column 'TYPE_OF_BUSINESS' to 'Projektgeschäft'\n",
    "df_final = df_joined.assign(TYPE_OF_BUSINESS=df_joined['TYPE_OF_BUSINESS'].mask(df_joined['TYPE_OF_BUSINESS'].isna(), 'Projektgeschäft'))"
   ]
  },
  {
   "cell_type": "markdown",
   "id": "7f30d339",
   "metadata": {},
   "source": [
    "### Pushing the data into EMS"
   ]
  },
  {
   "cell_type": "code",
   "execution_count": null,
   "id": "060d5395",
   "metadata": {},
   "outputs": [],
   "source": [
    "data_pool = celonis.pools.find(\"XXX\") # insert datapool ID"
   ]
  },
  {
   "cell_type": "code",
   "execution_count": null,
   "id": "1215d7ae",
   "metadata": {},
   "outputs": [],
   "source": [
    "# push to EMS and execute the datajob transform the table into both development and production environment\n",
    "\n",
    "data_pool.create_table(table_name=\"fill_PTI_AND_TYPE_OF_BUSINESS_PER_EBELN_PYTHON\",\n",
    "                   df_or_path=df_final,\n",
    "                   if_exists=\"drop\")\n",
    "\n",
    "datajob = data_pool.data_jobs.find(\"XXX\") # Insert datapool ID\n",
    "datajob.execute()\n",
    "\n",
    "print(\"Data successfully pushed into EMS.\")"
   ]
  }
 ],
 "metadata": {
  "kernelspec": {
   "display_name": "Python 3 (ipykernel)",
   "language": "python",
   "name": "python3"
  },
  "language_info": {
   "codemirror_mode": {
    "name": "ipython",
    "version": 3
   },
   "file_extension": ".py",
   "mimetype": "text/x-python",
   "name": "python",
   "nbconvert_exporter": "python",
   "pygments_lexer": "ipython3",
   "version": "3.9.13"
  }
 },
 "nbformat": 4,
 "nbformat_minor": 5
}
